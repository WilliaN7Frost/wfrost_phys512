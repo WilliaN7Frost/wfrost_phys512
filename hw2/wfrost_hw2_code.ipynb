{
 "cells": [
  {
   "cell_type": "code",
   "execution_count": 1,
   "metadata": {},
   "outputs": [],
   "source": [
    "import numpy as np\n",
    "from scipy import integrate\n",
    "import matplotlib.pyplot as plt\n",
    "%matplotlib notebook"
   ]
  },
  {
   "cell_type": "markdown",
   "metadata": {},
   "source": [
    "# #1"
   ]
  },
  {
   "cell_type": "code",
   "execution_count": 14,
   "metadata": {},
   "outputs": [],
   "source": [
    "def secondOrderPoly(x,pars):\n",
    "    a,b,c = pars\n",
    "    return a*x**2 + b*x + c\n",
    "def lorentz(x,pars):\n",
    "    return 1/(1-x**2)\n",
    "def gaussian(x,pars):\n",
    "    return np.exp(-0.5*x**2)\n",
    "\n",
    "def simple_integrate(fun,pars,a,b,tol, total_eval):\n",
    "    x=np.linspace(a,b,5)\n",
    "    dx=(b-a)/(5-1)\n",
    "    y=fun(x,pars)\n",
    "    neval=len(x) #let's keep track of function evaluations\n",
    "    f1=(y[0]+4*y[2]+y[4])/6.0*(b-a)\n",
    "    f2=(y[0]+4*y[1]+2*y[2]+4*y[3]+y[4])/12.0*(b-a)\n",
    "    myerr=np.abs(f2-f1)\n",
    "    #print([a,b,f1,f2])\n",
    "    total_eval += 1\n",
    "    if (myerr<tol) or total_eval > 10:\n",
    "        #return (f2)/1.0,myerr,neval\n",
    "        return (16.0*f2-f1)/15.0,myerr,neval\n",
    "    else:\n",
    "        mid=0.5*(b+a)\n",
    "        f_left,err_left,neval_left=simple_integrate(fun,pars,a,mid,tol/2.0 , total_eval)\n",
    "        f_right,err_right,neval_right=simple_integrate(fun,pars,mid,b,tol/2.0 , total_eval)\n",
    "        neval=neval+neval_left+neval_right\n",
    "        f=f_left+f_right\n",
    "        err=err_left+err_right\n",
    "        return f,err,neval\n",
    "\n",
    "def tracker_integrate(fun,pars,a,b,tol, total_recur_calls , track_x=[],track_y=[]):\n",
    "    \n",
    "    x=np.linspace(a,b,5); y = np.empty(len(x))\n",
    "    dx=(b-a)/(5-1)\n",
    "    neval = 0\n",
    "    for i in range(len(x)):\n",
    "        if np.any(x[i]==np.array(track_x)):\n",
    "            y[i] = track_y[track_x.index(x[i])]\n",
    "        else:\n",
    "            #print('eval done')\n",
    "            y[i] = fun(x[i],pars); neval += 1\n",
    "            track_x.append(x[i]);  track_y.append(y[i])\n",
    "            \n",
    "    f1=(y[0]+4*y[2]+y[4])/6.0*(b-a)\n",
    "    f2=(y[0]+4*y[1]+2*y[2]+4*y[3]+y[4])/12.0*(b-a)\n",
    "    myerr=np.abs(f2-f1)\n",
    "    #print([a,b,f1,f2])\n",
    "    total_recur_calls += 1\n",
    "    \n",
    "    if (myerr<tol) or total_recur_calls > 10:\n",
    "        return (16.0*f2-f1)/15.0,myerr,neval\n",
    "    else:\n",
    "        mid=0.5*(b+a)\n",
    "        f_left , err_left , neval_left = tracker_integrate(fun,pars,a,mid,tol/2.0 , total_recur_calls , track_x,track_y)\n",
    "        f_right , err_right , neval_right = tracker_integrate(fun,pars,mid,b,tol/2.0 , total_recur_calls , track_x,track_y)\n",
    "        neval += neval + neval_left + neval_right\n",
    "        f = f_left + f_right\n",
    "        err = err_left + err_right\n",
    "        return f , err  ,neval\n",
    "\n"
   ]
  },
  {
   "cell_type": "code",
   "execution_count": 15,
   "metadata": {},
   "outputs": [
    {
     "name": "stdout",
     "output_type": "stream",
     "text": [
      "Function evals for 2nd order poly using naive approach: 5\n",
      "Function evals for 2nd order poly using bestest approach: 5\n",
      "Function evals for lorentzian using naive approach: 2815\n",
      "Function evals for lorentzian using bestest approach: 1694\n",
      "Function evals for gaussian using naive approach: 795\n",
      "Function evals for gaussian using bestest approach: 482\n"
     ]
    }
   ],
   "source": [
    "a=2 ; b=3 ; c=4\n",
    "pars = (a,b,c)\n",
    "x_left=-5 ; x_right=5\n",
    "tol = 10**-6\n",
    "\n",
    "func = secondOrderPoly\n",
    "f , err , neval = simple_integrate( func,pars , x_left,x_right , tol,0 )\n",
    "F , ERR , NEVAL = tracker_integrate( func,pars , x_left,x_right , tol,0 , track_x=[],track_y=[])\n",
    "print('Function evals for 2nd order poly using naive approach:',neval)\n",
    "print('Function evals for 2nd order poly using bestest approach:',NEVAL)\n",
    "\n",
    "func = lorentz\n",
    "f , err , neval = simple_integrate( func,pars , x_left,x_right , tol,0 )\n",
    "F , ERR , NEVAL = tracker_integrate( func,pars , x_left,x_right , tol,0 , track_x=[],track_y=[])\n",
    "print('Function evals for lorentzian using naive approach:',neval)\n",
    "print('Function evals for lorentzian using bestest approach:',NEVAL)\n",
    "\n",
    "func = gaussian\n",
    "f , err , neval = simple_integrate( func,pars , x_left,x_right , tol,0 )\n",
    "F , ERR , NEVAL = tracker_integrate( func,pars , x_left,x_right , tol,0 , track_x=[],track_y=[])\n",
    "print('Function evals for gaussian using naive approach:',neval)\n",
    "print('Function evals for gaussian using bestest approach:',NEVAL)"
   ]
  },
  {
   "cell_type": "code",
   "execution_count": null,
   "metadata": {},
   "outputs": [],
   "source": []
  },
  {
   "cell_type": "code",
   "execution_count": null,
   "metadata": {},
   "outputs": [],
   "source": []
  },
  {
   "cell_type": "markdown",
   "metadata": {},
   "source": [
    "# #2"
   ]
  },
  {
   "cell_type": "markdown",
   "metadata": {},
   "source": [
    "## **a)**"
   ]
  },
  {
   "cell_type": "code",
   "execution_count": null,
   "metadata": {},
   "outputs": [],
   "source": [
    "# taken from cheb_expand.py from prof Sievers\n",
    "def cheb_mat_uniform( nx , orda ):\n",
    "    x = np.linspace(-1,1,nx)\n",
    "    mat=np.zeros([nx,orda+1])\n",
    "    mat[:,0]=1.0\n",
    "    if orda>0:\n",
    "        mat[:,1]=x\n",
    "    if orda>1:\n",
    "        for i in range(1,orda):\n",
    "            mat[:,i+1]=2*x*mat[:,i]-mat[:,i-1]\n",
    "    return mat\n",
    "\n",
    "def get_cheby_coeffs(mat,y,keep):\n",
    "    \n",
    "\n",
    "def map_to_chebboundries(x):\n",
    "    cheby_min = -1\n",
    "    cheby_max = 1\n",
    "    a = (cheby_max - cheby_min)/(x.max() - x.min())\n",
    "    b = cheby_min - a*x.min()\n",
    "    x_mapped = a*x + b\n",
    "    return x_mapped\n"
   ]
  },
  {
   "cell_type": "code",
   "execution_count": null,
   "metadata": {},
   "outputs": [],
   "source": [
    "xxx = np.linspace(0.5,1,10)\n",
    "print(xxx)\n",
    "print(map_to_chebboundries(xxx))\n",
    "print(np.linspace(-1,1,10))"
   ]
  },
  {
   "cell_type": "code",
   "execution_count": null,
   "metadata": {},
   "outputs": [],
   "source": [
    "n=1000\n",
    "    # 'worse_accuracy' will track the highest error in our fit\n",
    "orda = 10;   worse_accuracy = 1;   ncoeff = 1\n",
    "x_left = 0.5 ;   x_right = 1\n",
    "\n",
    "    # Since we are using a linspace, rescaling the values to (-1,1) can be done\n",
    "    # simply by retaining the length of the original array and creating a np.linspace\n",
    "    # with it and the correct cheby bounds\n",
    "mat=cheb_mat_uniform(n,orda)\n",
    "x = np.linspace(x_left,x_right,n)\n",
    "y=np.log2(x)\n",
    "    \n",
    "    # Taken from Prof. Sievers' 'cheb_expand.py'\n",
    "    # Performs least-squares fit\n",
    "lhs=np.dot(mat.transpose(),mat)\n",
    "rhs=np.dot(mat.transpose(),y)\n",
    "fitp=np.dot(np.linalg.inv(lhs),rhs)\n",
    "\n",
    "    # \n",
    "while worse_accuracy >= 10**-6 and ncoeff <= orda+1:\n",
    "    y_cheb=np.dot(mat[:,:ncoeff],fitp[:ncoeff])\n",
    "    worse_accuracy = np.max(np.abs(y_cheb-y))\n",
    "    ncoeff += 1\n",
    "ncoeff -= 1\n",
    "\n",
    "    # Need to supply ncoeff-1 to this routine since it asks for the max degree and not the number of coefficients\n",
    "leg_co = np.polynomial.legendre.legfit(x,y,ncoeff-1)    \n",
    "y_leg = np.polynomial.legendre.legval(x,leg_co)\n",
    "\n",
    "print( 'For '+str(orda)+'th order cheby truncated after',ncoeff,'terms, rms error is ',np.sqrt(np.mean((y_cheb-y)**2)),' , max error ',worse_accuracy )\n",
    "print( 'For '+str(ncoeff-1)+'th order Legendre polyfit,               rms error is ',np.sqrt(np.mean((y_leg-y)**2)),' , max error ',np.max(np.abs(y_leg-y)) )\n",
    "plt.figure(figsize=(10,5))\n",
    "plt.subplot(1,2,1); plt.plot(x,y_cheb); plt.plot(x,y,c='black'); plt.plot(x,y_leg)\n",
    "plt.subplot(1,2,2); plt.plot(x,y_cheb-y); plt.plot(x,y_leg-y); plt.axhline(0,c='black')\n",
    "plt.legend(['Chebyshev Residual','Legendre Residual'])"
   ]
  },
  {
   "cell_type": "markdown",
   "metadata": {},
   "source": [
    "**We could observe that a truncation including 8 terms in the Chebyshev series gives the desired maximum error in our fit. We therefore need at least a 7th order polynomial to obtain the desired maximum error of 10^-6. Plotting a Legendre polynomial fit using only 8 terms as well, we observe that at the edges the Cheby fit is better, while for most of the interval (in the center) the Legendre polynomial fit does best.**"
   ]
  },
  {
   "cell_type": "code",
   "execution_count": null,
   "metadata": {},
   "outputs": [],
   "source": []
  },
  {
   "cell_type": "code",
   "execution_count": null,
   "metadata": {},
   "outputs": [],
   "source": []
  },
  {
   "cell_type": "code",
   "execution_count": null,
   "metadata": {},
   "outputs": [],
   "source": []
  },
  {
   "cell_type": "markdown",
   "metadata": {},
   "source": [
    "# #3"
   ]
  },
  {
   "cell_type": "code",
   "execution_count": null,
   "metadata": {},
   "outputs": [],
   "source": []
  }
 ],
 "metadata": {
  "kernelspec": {
   "display_name": "Python 3",
   "language": "python",
   "name": "python3"
  },
  "language_info": {
   "codemirror_mode": {
    "name": "ipython",
    "version": 3
   },
   "file_extension": ".py",
   "mimetype": "text/x-python",
   "name": "python",
   "nbconvert_exporter": "python",
   "pygments_lexer": "ipython3",
   "version": "3.7.4"
  }
 },
 "nbformat": 4,
 "nbformat_minor": 4
}
